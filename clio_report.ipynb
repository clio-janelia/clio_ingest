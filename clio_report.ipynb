{
 "cells": [
  {
   "cell_type": "code",
   "execution_count": 55,
   "metadata": {},
   "outputs": [],
   "source": [
    "# inputs\n",
    "source_dir = \"BUCKET_NAME\" # source file bucket\n",
    "run_id = \"DAG_RUN_NAME\" # unique run id for job"
   ]
  },
  {
   "cell_type": "code",
   "execution_count": 56,
   "metadata": {},
   "outputs": [],
   "source": [
    "from google.cloud import storage\n",
    "storage_client = storage.Client()\n",
    "\n",
    "import pandas as pd\n",
    "import numpy as np\n",
    "from math import ceil\n",
    "import json\n",
    "\n",
    "# info locations\n",
    "process_dir = source_dir + \"_process\"\n",
    "prefix = run_id + \"/\"\n",
    "\n",
    "initloc = prefix + \"init.json\" # start file\n",
    "comploc = prefix + \"complete.json\" # final file\n",
    "\n",
    "align_dir = prefix + \"align/affine_cache/\" # affine cache\n",
    "slice_write_dir = prefix + \"align/write_cache/\" # write cache\n",
    "ng_write_dir = prefix + \"neuroglancer/cache/\" # write cache\n",
    "\n",
    "ng_dir =  source_dir  + \"_ng_\" + run_id  # location of ng bucket\n",
    "ng_meta = \"neuroglancer/jpeg/info\" # location of info\n",
    "\n",
    "neuroglancer_addr = f\"https://neuroglancer-demo.appspot.com/#!%7B%22layers%22%3A%5B%7B%22type%22%3A%22image%22%2C%22source%22%3A%7B%22url%22%3A%22precomputed%3A%2F%2Fgs%3A%2F%2F{ng_dir}%2Fneuroglancer%2Fjpeg%22%7D%2C%22tab%22%3A%22source%22%2C%22name%22%3A%22jpeg%22%7D%5D%2C%22selectedLayer%22%3A%7B%22layer%22%3A%22jpeg%22%2C%22visible%22%3Atrue%7D%7D\"\n",
    "\n",
    "def analyze_delays(prefix, total_tasks, hint=1):\n",
    "    \"\"\"Provides the following for a given stage:\n",
    "\n",
    "    1. Make bar chart with number of tasks complete out of remaining and report total time\n",
    "    2. Make graph of work per minute\n",
    "    3. Print estimated time remaining\n",
    "    \"\"\"\n",
    "    import warnings\n",
    "    import tqdm\n",
    "    \n",
    "    # collect all time stamps\n",
    "    blobs = storage_client.list_blobs(process_dir, prefix=prefix)\n",
    "    create_times = []\n",
    "    for blob in blobs:\n",
    "        if blob.name.startswith(prefix+\"worker\"):\n",
    "            continue\n",
    "        create_times.append(blob.time_created)\n",
    "\n",
    "    \n",
    "    # print work per minute rates\n",
    "    df = pd.DataFrame({\"time\": create_times})\n",
    "    df = df.sort_values(by=\"time\", ascending=True)\n",
    "    warnings.simplefilter(action='ignore', category=UserWarning)\n",
    "    \n",
    "        \n",
    "    # print bar chart and total time so far\n",
    "    remaining = total_tasks - len(create_times)\n",
    "    total_time = 0\n",
    "    \n",
    "    if len(create_times) > 0:\n",
    "        total_time = (df[\"time\"].iloc[-1]-df[\"time\"].iloc[0])\n",
    "        total_time = (total_time.total_seconds()/60)\n",
    "    \n",
    "    pbar = tqdm.tqdm(desc=f\"Tasks completed in {total_time:.2f} minutes\", bar_format=\"{l_bar}{bar}|{n_fmt}/{total_fmt}\", initial=len(create_times), total=total_tasks)\n",
    "    #pbar.set_description()\n",
    "    \n",
    "    if len(create_times) > 0:\n",
    "        counts = pd.Series(index=df.time, data=np.array(df.count)).resample('1T').count()\n",
    "        counts.sort_index(ascending=True)\n",
    "        counts.plot.line()\n",
    "    \n",
    "    # estimate work time based on last 15 minutes\n",
    "    remaining_time = 0\n",
    "    rate = hint\n",
    "    if remaining > 0 and len(create_times) > 0:\n",
    "        rate = counts.sort_index(ascending=False)[1:15].mean()\n",
    "        remaining_time = remaining / rate\n",
    "    elif len(create_times) > 0:\n",
    "        rate = counts.sort_index(ascending=False).mean()\n",
    "    elif remaining > 0:\n",
    "        remaining_time = remaining / rate\n",
    "\n",
    "    #print(f\"Total time {total_time:.2f} minutes\")\n",
    "    print(f\"Estimated time remaining: {remaining_time:.2f} minutes\")\n",
    "    print(f\"Task rate: {rate:.2f} per minute\")\n",
    "    return rate\n",
    "\n",
    "# get job data\n",
    "bucket = storage_client.bucket(process_dir)\n",
    "\n",
    "# determine number of slices\n",
    "blob = bucket.blob(initloc)\n",
    "job_json = json.loads(blob.download_as_string())\n",
    "\n",
    "num_slices = job_json[\"maxz\"] - job_json[\"minz\"] + 1\n",
    "\n",
    "shards = ceil(num_slices**3 / (1024**3)) # estimate\n",
    "\n",
    "try:\n",
    "    # estimate ng work if possible from ng file\n",
    "    bucket = storage_client.bucket(ng_dir)\n",
    "\n",
    "    # determine number of slices\n",
    "    blob = bucket.blob(ng_meta)\n",
    "    \n",
    "    ng_json = json.loads(blob.download_as_string())\n",
    "    xb = ceil(ng_json[\"scales\"][0][\"size\"][0] / 1024)\n",
    "    yb = ceil(ng_json[\"scales\"][0][\"size\"][1] / 1024)\n",
    "    zb = ceil(num_slices / 1024)\n",
    "    shards = xb*yb*zb\n",
    "except:\n",
    "    pass\n",
    "    \n",
    "# get runtime total\n",
    "import time\n",
    "\n",
    "total_runtime = 0\n",
    "job_status = \"not started\"\n",
    "\n",
    "start = 0\n",
    "end = time.time()\n",
    "\n",
    "blobs = storage_client.list_blobs(process_dir, prefix=initloc)\n",
    "\n",
    "for blob in blobs:\n",
    "    start = blob.time_created.timestamp()\n",
    "    job_status = \"started\"\n",
    "    \n",
    "if start != 0:\n",
    "    blobs = storage_client.list_blobs(process_dir, prefix=comploc)\n",
    "    for blob in blobs:\n",
    "        end = blob.time_created.timestamp()\n",
    "        job_status = \"completed\"\n",
    "    total_runtime = (end-start) / 60   "
   ]
  },
  {
   "cell_type": "markdown",
   "metadata": {},
   "source": [
    "## Summary"
   ]
  },
  {
   "cell_type": "code",
   "execution_count": 57,
   "metadata": {},
   "outputs": [
    {
     "name": "stdout",
     "output_type": "stream",
     "text": [
      "status: completed\n",
      "total runtime: 107.86 minutes\n",
      "neuroglancer location: https://neuroglancer-demo.appspot.com/#!%7B%22layers%22%3A%5B%7B%22type%22%3A%22image%22%2C%22source%22%3A%7B%22url%22%3A%22precomputed%3A%2F%2Fgs%3A%2F%2Fclio_medulla_38_ng_ingest_9a05245f240e%2Fneuroglancer%2Fjpeg%22%7D%2C%22tab%22%3A%22source%22%2C%22name%22%3A%22jpeg%22%7D%5D%2C%22selectedLayer%22%3A%7B%22layer%22%3A%22jpeg%22%2C%22visible%22%3Atrue%7D%7D\n"
     ]
    }
   ],
   "source": [
    "print(f\"status: {job_status}\")\n",
    "print(f\"total runtime: {total_runtime:.2f} minutes\")\n",
    "if job_status == \"completed\":\n",
    "    print(f\"neuroglancer location: {neuroglancer_addr}\")"
   ]
  },
  {
   "cell_type": "markdown",
   "metadata": {},
   "source": [
    "## Alignment Stage\n",
    "\n",
    "Affine transformation calculation for each image."
   ]
  },
  {
   "cell_type": "code",
   "execution_count": 58,
   "metadata": {},
   "outputs": [
    {
     "name": "stderr",
     "output_type": "stream",
     "text": [
      "\r",
      "Tasks completed in 40.65 minutes: 100%|██████████|13695/13695"
     ]
    },
    {
     "name": "stdout",
     "output_type": "stream",
     "text": [
      "Estimated time remaining: 0.00 minutes\n",
      "Task rate: 334.02 per minute\n"
     ]
    },
    {
     "data": {
      "image/png": "[encoded data removed]",
      "text/plain": [
       "<Figure size 432x288 with 1 Axes>"
      ]
     },
     "metadata": {
      "needs_background": "light"
     },
     "output_type": "display_data"
    }
   ],
   "source": [
    "# alignment stage\n",
    "align_rate = analyze_delays(align_dir, num_slices-1, hint=256)"
   ]
  },
  {
   "cell_type": "markdown",
   "metadata": {},
   "source": [
    "## Slice Transform and Contrast Adjust Stage\n",
    "\n",
    "Apply alignment and write out intermediate tiles"
   ]
  },
  {
   "cell_type": "code",
   "execution_count": 59,
   "metadata": {},
   "outputs": [
    {
     "name": "stderr",
     "output_type": "stream",
     "text": [
      "\n",
      "Tasks completed in 39.20 minutes: 100%|██████████|13696/13696\u001b[A"
     ]
    },
    {
     "name": "stdout",
     "output_type": "stream",
     "text": [
      "Estimated time remaining: 0.00 minutes\n",
      "Task rate: 342.40 per minute\n"
     ]
    },
    {
     "data": {
      "image/png": "[encoded data removed]",
      "text/plain": [
       "<Figure size 432x288 with 1 Axes>"
      ]
     },
     "metadata": {
      "needs_background": "light"
     },
     "output_type": "display_data"
    },
    {
     "name": "stderr",
     "output_type": "stream",
     "text": [
      "Tasks completed in 39.20 minutes: 100%|██████████|13696/13696\n"
     ]
    }
   ],
   "source": [
    "# slice write stage\n",
    "slice_rate = analyze_delays(slice_write_dir, num_slices, hint=align_rate/4)"
   ]
  },
  {
   "cell_type": "markdown",
   "metadata": {},
   "source": [
    "## Export neuroglancer and chunks"
   ]
  },
  {
   "cell_type": "code",
   "execution_count": 60,
   "metadata": {},
   "outputs": [
    {
     "name": "stderr",
     "output_type": "stream",
     "text": [
      "\n",
      "Tasks completed in 19.28 minutes: 100%|██████████|784/784\u001b[A"
     ]
    },
    {
     "name": "stdout",
     "output_type": "stream",
     "text": [
      "Estimated time remaining: 0.00 minutes\n",
      "Task rate: 39.20 per minute\n"
     ]
    },
    {
     "name": "stderr",
     "output_type": "stream",
     "text": [
      "\n"
     ]
    },
    {
     "data": {
      "image/png": "[encoded data removed]",
      "text/plain": [
       "<Figure size 432x288 with 1 Axes>"
      ]
     },
     "metadata": {
      "needs_background": "light"
     },
     "output_type": "display_data"
    }
   ],
   "source": [
    "# slice write stage\n",
    "slice_rate = analyze_delays(ng_write_dir, shards, hint=256/3)"
   ]
  }
 ],
 "metadata": {
  "kernelspec": {
   "display_name": "Python 3",
   "language": "python",
   "name": "python3"
  },
  "language_info": {
   "codemirror_mode": {
    "name": "ipython",
    "version": 3
   },
   "file_extension": ".py",
   "mimetype": "text/x-python",
   "name": "python",
   "nbconvert_exporter": "python",
   "pygments_lexer": "ipython3",
   "version": "3.7.6"
  }
 },
 "nbformat": 4,
 "nbformat_minor": 2
}
